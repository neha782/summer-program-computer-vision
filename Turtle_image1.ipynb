{
 "cells": [
  {
   "cell_type": "code",
   "execution_count": 1,
   "id": "e4405046",
   "metadata": {},
   "outputs": [],
   "source": [
    "import turtle"
   ]
  },
  {
   "cell_type": "code",
   "execution_count": 2,
   "id": "182c2838",
   "metadata": {},
   "outputs": [],
   "source": [
    "t = turtle.Turtle()"
   ]
  },
  {
   "cell_type": "code",
   "execution_count": 3,
   "id": "c2f26a50",
   "metadata": {},
   "outputs": [],
   "source": [
    "s = turtle.Screen()"
   ]
  },
  {
   "cell_type": "code",
   "execution_count": 4,
   "id": "c7d6cb6c",
   "metadata": {},
   "outputs": [],
   "source": [
    "s.bgcolor(\"black\")"
   ]
  },
  {
   "cell_type": "code",
   "execution_count": 5,
   "id": "d42ab484",
   "metadata": {},
   "outputs": [],
   "source": [
    "t.pencolor(\"blue\")"
   ]
  },
  {
   "cell_type": "code",
   "execution_count": 6,
   "id": "5f43c863",
   "metadata": {},
   "outputs": [],
   "source": [
    "a=0"
   ]
  },
  {
   "cell_type": "code",
   "execution_count": 7,
   "id": "1e75936e",
   "metadata": {},
   "outputs": [],
   "source": [
    "b=0"
   ]
  },
  {
   "cell_type": "code",
   "execution_count": 8,
   "id": "397235ff",
   "metadata": {},
   "outputs": [],
   "source": [
    "t.speed(0)"
   ]
  },
  {
   "cell_type": "code",
   "execution_count": null,
   "id": "ef3c29d3",
   "metadata": {},
   "outputs": [],
   "source": []
  },
  {
   "cell_type": "code",
   "execution_count": null,
   "id": "2602a279",
   "metadata": {},
   "outputs": [],
   "source": []
  },
  {
   "cell_type": "code",
   "execution_count": null,
   "id": "45fbd243",
   "metadata": {},
   "outputs": [],
   "source": []
  },
  {
   "cell_type": "code",
   "execution_count": 9,
   "id": "07d2ffb8",
   "metadata": {},
   "outputs": [],
   "source": [
    "t.penup()\n",
    "t.goto(0,200)\n",
    "t.pendown()\n",
    "while True:\n",
    "    t.forward(a)\n",
    "    t.right(b)\n",
    "    a+=3\n",
    "    b+=1\n",
    "    if b==200:\n",
    "        break\n",
    "    t.hideturtle()\n",
    "turtle.done()"
   ]
  },
  {
   "cell_type": "code",
   "execution_count": null,
   "id": "1a0b4848",
   "metadata": {},
   "outputs": [],
   "source": []
  },
  {
   "cell_type": "code",
   "execution_count": null,
   "id": "18246ffa",
   "metadata": {},
   "outputs": [],
   "source": []
  },
  {
   "cell_type": "code",
   "execution_count": null,
   "id": "3496133d",
   "metadata": {},
   "outputs": [],
   "source": []
  }
 ],
 "metadata": {
  "kernelspec": {
   "display_name": "Python 3",
   "language": "python",
   "name": "python3"
  },
  "language_info": {
   "codemirror_mode": {
    "name": "ipython",
    "version": 3
   },
   "file_extension": ".py",
   "mimetype": "text/x-python",
   "name": "python",
   "nbconvert_exporter": "python",
   "pygments_lexer": "ipython3",
   "version": "3.8.8"
  }
 },
 "nbformat": 4,
 "nbformat_minor": 5
}
