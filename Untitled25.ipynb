{
 "cells": [
  {
   "cell_type": "code",
   "execution_count": 1,
   "id": "a7f123a7",
   "metadata": {},
   "outputs": [],
   "source": [
    "import cv2"
   ]
  },
  {
   "cell_type": "code",
   "execution_count": 2,
   "id": "55dad151",
   "metadata": {},
   "outputs": [],
   "source": [
    "import numpy as np"
   ]
  },
  {
   "cell_type": "code",
   "execution_count": 3,
   "id": "cbc1b24a",
   "metadata": {},
   "outputs": [],
   "source": [
    "black = np.zeros((80,500,3))"
   ]
  },
  {
   "cell_type": "code",
   "execution_count": 4,
   "id": "4775232d",
   "metadata": {},
   "outputs": [],
   "source": [
    "white = np.ones((80,500,3))"
   ]
  },
  {
   "cell_type": "code",
   "execution_count": 5,
   "id": "008b5ebc",
   "metadata": {},
   "outputs": [],
   "source": [
    "black1 = np.zeros((90,90,3))"
   ]
  },
  {
   "cell_type": "code",
   "execution_count": 6,
   "id": "c73db635",
   "metadata": {},
   "outputs": [],
   "source": [
    "white1 = np.ones((90,90,3))"
   ]
  },
  {
   "cell_type": "code",
   "execution_count": 7,
   "id": "7186b2b2",
   "metadata": {},
   "outputs": [],
   "source": [
    "cv2.imshow(\"image\", black)\n",
    "cv2.imshow(\"image_\", white)\n",
    "cv2.waitKey()\n",
    "cv2.destroyAllWindows()"
   ]
  },
  {
   "cell_type": "code",
   "execution_count": 8,
   "id": "dea397da",
   "metadata": {},
   "outputs": [],
   "source": [
    "image = cv2.vconcat([black,white,black,white,black,white])"
   ]
  },
  {
   "cell_type": "code",
   "execution_count": 9,
   "id": "13a9a52a",
   "metadata": {},
   "outputs": [],
   "source": [
    "cv2.imshow(\"final_img\", image)\n",
    "cv2.waitKey()\n",
    "cv2.destroyAllWindows()"
   ]
  },
  {
   "cell_type": "code",
   "execution_count": 10,
   "id": "f7fec10e",
   "metadata": {},
   "outputs": [],
   "source": [
    "image2 = cv2.hconcat([white1,black1])\n",
    "image3 = cv2.hconcat([black1,white1])\n",
    "final_image = cv2.vconcat([image2,image3,image2,image3,image2,image3])"
   ]
  },
  {
   "cell_type": "code",
   "execution_count": 11,
   "id": "0b021984",
   "metadata": {},
   "outputs": [],
   "source": [
    "swap = final_image[:180,:180]\n",
    "image[:180,:180]= swap\n",
    "cv2.imshow(\"im\", image)\n",
    "cv2.waitKey()\n",
    "cv2.destroyAllWindows()\n",
    "\n"
   ]
  },
  {
   "cell_type": "code",
   "execution_count": 12,
   "id": "8d0e7504",
   "metadata": {},
   "outputs": [],
   "source": [
    "#cv2.imshow(\"img\", final)\n",
    "#cv2.waitKey()\n",
    "#cv2.destroyAllWindows()"
   ]
  },
  {
   "cell_type": "code",
   "execution_count": 13,
   "id": "a4102622",
   "metadata": {},
   "outputs": [],
   "source": [
    "final =np.save(\"myimage.jpg\", image)"
   ]
  },
  {
   "cell_type": "code",
   "execution_count": null,
   "id": "b3b36456",
   "metadata": {},
   "outputs": [],
   "source": []
  },
  {
   "cell_type": "code",
   "execution_count": null,
   "id": "168caa3c",
   "metadata": {},
   "outputs": [],
   "source": []
  },
  {
   "cell_type": "code",
   "execution_count": null,
   "id": "037c06f0",
   "metadata": {},
   "outputs": [],
   "source": []
  },
  {
   "cell_type": "code",
   "execution_count": null,
   "id": "301935a6",
   "metadata": {},
   "outputs": [],
   "source": []
  }
 ],
 "metadata": {
  "kernelspec": {
   "display_name": "Python 3",
   "language": "python",
   "name": "python3"
  },
  "language_info": {
   "codemirror_mode": {
    "name": "ipython",
    "version": 3
   },
   "file_extension": ".py",
   "mimetype": "text/x-python",
   "name": "python",
   "nbconvert_exporter": "python",
   "pygments_lexer": "ipython3",
   "version": "3.8.8"
  }
 },
 "nbformat": 4,
 "nbformat_minor": 5
}
