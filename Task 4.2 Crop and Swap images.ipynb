{
 "cells": [
  {
   "cell_type": "code",
   "execution_count": 1,
   "id": "308efb95",
   "metadata": {},
   "outputs": [],
   "source": [
    "import cv2"
   ]
  },
  {
   "cell_type": "code",
   "execution_count": 2,
   "id": "91161e38",
   "metadata": {},
   "outputs": [],
   "source": [
    "image_1 = cv2.imread(\"image_3.jpg\")"
   ]
  },
  {
   "cell_type": "code",
   "execution_count": 3,
   "id": "5eb4f17c",
   "metadata": {},
   "outputs": [],
   "source": [
    "image_2 = cv2.imread(\"image_5.jpg\")"
   ]
  },
  {
   "cell_type": "code",
   "execution_count": 4,
   "id": "0ef583c4",
   "metadata": {},
   "outputs": [],
   "source": [
    "cv2.imshow(\"image\", image_1)\n",
    "cv2.imshow(\"imgage_\", image_2)\n",
    "cv2.waitKey()\n",
    "cv2.destroyAllWindows()"
   ]
  },
  {
   "cell_type": "code",
   "execution_count": 5,
   "id": "8d7c245d",
   "metadata": {},
   "outputs": [],
   "source": [
    "#crop and swap on image_1\n",
    "cimage_2 = image_2[50:500, 100:400]\n",
    "image_1[50:500, 100:400]=cimage_2\n",
    "cv2.imshow(\"swapped\", image_1)\n",
    "cv2.waitKey()\n",
    "cv2.destroyAllWindows()\n"
   ]
  },
  {
   "cell_type": "code",
   "execution_count": 6,
   "id": "114557c1",
   "metadata": {},
   "outputs": [],
   "source": [
    "#crop and swap on image_2\n",
    "cimage_1 = image_1[50:500, 100:800]\n",
    "image_2[50:500, 100:800] = cimage_1\n",
    "cv2.imshow(\"swapped_\", image_2)\n",
    "cv2.waitKey()\n",
    "cv2.destroyAllWindows()"
   ]
  },
  {
   "cell_type": "code",
   "execution_count": null,
   "id": "0f3953ad",
   "metadata": {},
   "outputs": [],
   "source": []
  },
  {
   "cell_type": "code",
   "execution_count": null,
   "id": "734b39a6",
   "metadata": {},
   "outputs": [],
   "source": []
  },
  {
   "cell_type": "code",
   "execution_count": null,
   "id": "bbdc23c4",
   "metadata": {},
   "outputs": [],
   "source": []
  },
  {
   "cell_type": "code",
   "execution_count": null,
   "id": "cebdb661",
   "metadata": {},
   "outputs": [],
   "source": []
  }
 ],
 "metadata": {
  "kernelspec": {
   "display_name": "Python 3",
   "language": "python",
   "name": "python3"
  },
  "language_info": {
   "codemirror_mode": {
    "name": "ipython",
    "version": 3
   },
   "file_extension": ".py",
   "mimetype": "text/x-python",
   "name": "python",
   "nbconvert_exporter": "python",
   "pygments_lexer": "ipython3",
   "version": "3.8.8"
  }
 },
 "nbformat": 4,
 "nbformat_minor": 5
}
