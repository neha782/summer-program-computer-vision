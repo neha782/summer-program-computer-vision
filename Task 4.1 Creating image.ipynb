{
 "cells": [
  {
   "cell_type": "code",
   "execution_count": 1,
   "id": "25b7132e",
   "metadata": {},
   "outputs": [],
   "source": [
    "import turtle"
   ]
  },
  {
   "cell_type": "code",
   "execution_count": 2,
   "id": "64e99b8d",
   "metadata": {},
   "outputs": [],
   "source": [
    "t = turtle.Turtle()"
   ]
  },
  {
   "cell_type": "code",
   "execution_count": 3,
   "id": "d7bf7dde",
   "metadata": {},
   "outputs": [],
   "source": [
    "s = turtle.Screen()"
   ]
  },
  {
   "cell_type": "code",
   "execution_count": 4,
   "id": "cbc83868",
   "metadata": {},
   "outputs": [],
   "source": [
    "s.bgcolor(\"black\")"
   ]
  },
  {
   "cell_type": "code",
   "execution_count": 5,
   "id": "f6236a1a",
   "metadata": {},
   "outputs": [],
   "source": [
    "t.pencolor(\"white\")"
   ]
  },
  {
   "cell_type": "code",
   "execution_count": null,
   "id": "a707beb0",
   "metadata": {},
   "outputs": [],
   "source": []
  },
  {
   "cell_type": "code",
   "execution_count": 6,
   "id": "896aa55d",
   "metadata": {},
   "outputs": [],
   "source": [
    "t.speed(0)"
   ]
  },
  {
   "cell_type": "code",
   "execution_count": 7,
   "id": "00503f0d",
   "metadata": {},
   "outputs": [],
   "source": [
    "c=0"
   ]
  },
  {
   "cell_type": "code",
   "execution_count": 8,
   "id": "6033a0fa",
   "metadata": {},
   "outputs": [],
   "source": [
    "while True:\n",
    "        t.begin_fill()\n",
    "        t.circle(80)\n",
    "        t.end_fill()\n",
    "        t.right(5)\n",
    "        c+=1\n",
    "        if c>=360/5:\n",
    "            break\n",
    "        t.hideturtle()\n",
    "turtle.exitonclick()\n",
    "    "
   ]
  },
  {
   "cell_type": "code",
   "execution_count": 9,
   "id": "d92a8ed6",
   "metadata": {},
   "outputs": [
    {
     "data": {
      "text/plain": [
       "<bound method RawTurtle.shape of <turtle.Turtle object at 0x0000019741E22DC0>>"
      ]
     },
     "execution_count": 9,
     "metadata": {},
     "output_type": "execute_result"
    }
   ],
   "source": [
    "t.shape"
   ]
  },
  {
   "cell_type": "code",
   "execution_count": null,
   "id": "78cd1db4",
   "metadata": {},
   "outputs": [],
   "source": [
    " "
   ]
  },
  {
   "cell_type": "code",
   "execution_count": null,
   "id": "0437cb27",
   "metadata": {},
   "outputs": [],
   "source": []
  },
  {
   "cell_type": "code",
   "execution_count": null,
   "id": "75fe3f3b",
   "metadata": {},
   "outputs": [],
   "source": []
  },
  {
   "cell_type": "code",
   "execution_count": null,
   "id": "8b82330f",
   "metadata": {},
   "outputs": [],
   "source": []
  },
  {
   "cell_type": "code",
   "execution_count": null,
   "id": "ec7d78a6",
   "metadata": {},
   "outputs": [],
   "source": []
  }
 ],
 "metadata": {
  "kernelspec": {
   "display_name": "Python 3",
   "language": "python",
   "name": "python3"
  },
  "language_info": {
   "codemirror_mode": {
    "name": "ipython",
    "version": 3
   },
   "file_extension": ".py",
   "mimetype": "text/x-python",
   "name": "python",
   "nbconvert_exporter": "python",
   "pygments_lexer": "ipython3",
   "version": "3.8.8"
  }
 },
 "nbformat": 4,
 "nbformat_minor": 5
}
