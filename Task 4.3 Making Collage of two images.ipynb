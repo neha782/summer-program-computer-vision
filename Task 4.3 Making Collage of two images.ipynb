{
 "cells": [
  {
   "cell_type": "code",
   "execution_count": 1,
   "id": "1ba80a7f",
   "metadata": {},
   "outputs": [],
   "source": [
    "import cv2"
   ]
  },
  {
   "cell_type": "code",
   "execution_count": 2,
   "id": "1b599009",
   "metadata": {},
   "outputs": [],
   "source": [
    "import numpy"
   ]
  },
  {
   "cell_type": "code",
   "execution_count": 3,
   "id": "8f425c3e",
   "metadata": {},
   "outputs": [],
   "source": [
    "image_1 = cv2.imread(\"image_5.jpg\")"
   ]
  },
  {
   "cell_type": "code",
   "execution_count": 4,
   "id": "fb97a2c3",
   "metadata": {},
   "outputs": [],
   "source": [
    "image_2 = cv2.imread(\"image_2.jpg\")\n"
   ]
  },
  {
   "cell_type": "code",
   "execution_count": 5,
   "id": "5ca348b6",
   "metadata": {},
   "outputs": [],
   "source": [
    "cv2.imshow(\"image\", image_1)\n",
    "cv2.imshow(\"image_\", image_2)\n",
    "cv2.waitKey()\n",
    "cv2.destroyAllWindows()"
   ]
  },
  {
   "cell_type": "code",
   "execution_count": 6,
   "id": "2d68ce18",
   "metadata": {},
   "outputs": [],
   "source": [
    "# make collage of two images\n",
    "image_1= cv2.resize(image_1, (200,200))\n",
    "image_2 = cv2.resize(image_2, (200,200))\n",
    "final_img = numpy.hstack([image_1, image_2])\n"
   ]
  },
  {
   "cell_type": "code",
   "execution_count": 7,
   "id": "11782e66",
   "metadata": {},
   "outputs": [],
   "source": [
    "cv2.imshow(\"collage\", final_img)\n",
    "cv2.waitKey()\n",
    "cv2.destroyAllWindows()"
   ]
  },
  {
   "cell_type": "code",
   "execution_count": null,
   "id": "cdbc53b2",
   "metadata": {},
   "outputs": [],
   "source": []
  },
  {
   "cell_type": "code",
   "execution_count": null,
   "id": "c8223892",
   "metadata": {},
   "outputs": [],
   "source": []
  },
  {
   "cell_type": "code",
   "execution_count": null,
   "id": "05d26212",
   "metadata": {},
   "outputs": [],
   "source": []
  }
 ],
 "metadata": {
  "kernelspec": {
   "display_name": "Python 3",
   "language": "python",
   "name": "python3"
  },
  "language_info": {
   "codemirror_mode": {
    "name": "ipython",
    "version": 3
   },
   "file_extension": ".py",
   "mimetype": "text/x-python",
   "name": "python",
   "nbconvert_exporter": "python",
   "pygments_lexer": "ipython3",
   "version": "3.8.8"
  }
 },
 "nbformat": 4,
 "nbformat_minor": 5
}
